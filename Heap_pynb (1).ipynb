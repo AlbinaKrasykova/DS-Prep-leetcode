{
  "nbformat": 4,
  "nbformat_minor": 0,
  "metadata": {
    "colab": {
      "provenance": []
    },
    "kernelspec": {
      "name": "python3",
      "display_name": "Python 3"
    },
    "language_info": {
      "name": "python"
    }
  },
  "cells": [
    {
      "cell_type": "markdown",
      "source": [
        "# **HEAPS**"
      ],
      "metadata": {
        "id": "PkxxzX54gtkV"
      }
    },
    {
      "cell_type": "markdown",
      "source": [
        "✅ **When to use heaps?**\n",
        "We use heaps when  frequently need to access or remove the smallest/largest element quickly, especially when the list of items changes dynamically (e.g., elements being added/removed)"
      ],
      "metadata": {
        "id": "HPikUmeESFzk"
      }
    },
    {
      "cell_type": "markdown",
      "source": [
        "✅ **What are heaps?** Heaps are a special type of the binary trees. We have 2 types of heaps - min heap where root is the smalles value, and ,max heap where root is the max value."
      ],
      "metadata": {
        "id": "NKK3UDZ3bY-O"
      }
    },
    {
      "cell_type": "markdown",
      "source": [
        "✅ **It is always a complete binary tree:**\n",
        "\n",
        "All levels are fully filled except possibly the last.\n",
        "\n",
        "The last level is filled from left to right.\n",
        "\n"
      ],
      "metadata": {
        "id": "M0CUXbHxbmOY"
      }
    },
    {
      "cell_type": "markdown",
      "source": [
        "# **Kth largest element in Heap** (Bloomberg)\n",
        "\n",
        "Q:"
      ],
      "metadata": {
        "id": "JhrOuG4bS6VS"
      }
    },
    {
      "cell_type": "code",
      "source": [
        "import heapq\n",
        "\n",
        "class KthLargest:\n",
        "\n",
        "  def __init__(self, k, nums):\n",
        "    self.k = k\n",
        "    self.nums = nums\n",
        "    heapq.heapify(self.nums)\n",
        "    while len(self.nums) > k:\n",
        "      heapq.heappop(self.nums)\n",
        "\n",
        "  def add(self, val):\n",
        "    heapq.heappush(self.nums, val)\n",
        "    while len(self.nums) > self.k:\n",
        "      heapq.heappop(self.nums)\n",
        "    return self.nums[0]"
      ],
      "metadata": {
        "id": "kQU8gu9bYX0Y"
      },
      "execution_count": null,
      "outputs": []
    },
    {
      "cell_type": "code",
      "source": [],
      "metadata": {
        "id": "leMvi-VQ6TOD"
      },
      "execution_count": null,
      "outputs": []
    },
    {
      "cell_type": "code",
      "source": [
        "#K Closest Points to Origin\n",
        "\n",
        "'''\n",
        " We iterate n times, the heap only stores k items, so push/pop is O(log k), and total is O(n log k).\n",
        "\n",
        "\n",
        "'''\n",
        "\n",
        "class Solution(object):\n",
        "    def kClosest(self, points, k):\n",
        "        \"\"\"\n",
        "        :type points: List[List[int]]\n",
        "        :type k: int\n",
        "        :rtype: List[List[int]]\n",
        "        \"\"\"\n",
        "        minheap = []\n",
        "        for x,y in points:\n",
        "            distance = x**2 + y**2\n",
        "            minheap.append([distance, x, y])\n",
        "        heapq.heapify(minheap)\n",
        "        result = []\n",
        "        while k > 0:\n",
        "            dis, x, y, = heapq.heappop(minheap)\n",
        "            result.append([x, y])\n",
        "            k-=1\n",
        "        return result"
      ],
      "metadata": {
        "id": "hMW7808D6Uvc"
      },
      "execution_count": null,
      "outputs": []
    }
  ]
}