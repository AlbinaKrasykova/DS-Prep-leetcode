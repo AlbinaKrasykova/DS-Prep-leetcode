{
  "nbformat": 4,
  "nbformat_minor": 0,
  "metadata": {
    "colab": {
      "provenance": []
    },
    "kernelspec": {
      "name": "python3",
      "display_name": "Python 3"
    },
    "language_info": {
      "name": "python"
    }
  },
  "cells": [
    {
      "cell_type": "markdown",
      "source": [
        "✅ **When to use heaps?**\n",
        "\n",
        "We use heaps when  frequently need to access or remove the smallest/largest element quickly, especially when the list of items changes dynamically (e.g., elements being added/removed)"
      ],
      "metadata": {
        "id": "HPikUmeESFzk"
      }
    },
    {
      "cell_type": "markdown",
      "source": [
        "✅ **What are heaps?** Heaps are a special type of the binary trees. We have 2 types of heaps - min heap where root is the smalles value, and ,max heap where root is the max value."
      ],
      "metadata": {
        "id": "NKK3UDZ3bY-O"
      }
    },
    {
      "cell_type": "markdown",
      "source": [
        "✅ **It is always a complete binary tree:**\n",
        "\n",
        "All levels are fully filled except possibly the last.\n",
        "\n",
        "The last level is filled from left to right.\n",
        "\n"
      ],
      "metadata": {
        "id": "M0CUXbHxbmOY"
      }
    },
    {
      "cell_type": "markdown",
      "source": [
        "Kth largest element in Heap (Bloomberg)"
      ],
      "metadata": {
        "id": "JhrOuG4bS6VS"
      }
    },
    {
      "cell_type": "code",
      "source": [
        "import heapq\n",
        "\n",
        "class KthLargest:\n",
        "\n",
        "  def __init__(self, k, nums):\n",
        "    self.k = k\n",
        "    self.nums = nums\n",
        "    heapq.heapify(self.nums)\n",
        "    while len(self.nums) > k:\n",
        "      heapq.heappop(self.nums)\n",
        "\n",
        "  def add(self, val):\n",
        "    heapq.heappush(self.nums, val)\n",
        "    while len(self.nums) > self.k:\n",
        "      heapq.heappop(self.nums)\n",
        "    return self.nums[0]"
      ],
      "metadata": {
        "id": "kQU8gu9bYX0Y"
      },
      "execution_count": 2,
      "outputs": []
    }
  ]
}